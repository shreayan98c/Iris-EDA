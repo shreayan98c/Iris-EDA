{
 "cells": [
  {
   "cell_type": "code",
   "execution_count": 1,
   "metadata": {},
   "outputs": [
    {
     "data": {
      "text/plain": [
       "'GeForce 940MX'"
      ]
     },
     "execution_count": 1,
     "metadata": {},
     "output_type": "execute_result"
    }
   ],
   "source": [
    "# Importing pytorch\n",
    "import torch\n",
    "import torch.nn as nn\n",
    "import torch.nn.functional as F\n",
    "torch.cuda.get_device_name(0)"
   ]
  },
  {
   "cell_type": "code",
   "execution_count": 2,
   "metadata": {},
   "outputs": [
    {
     "data": {
      "text/plain": [
       "True"
      ]
     },
     "execution_count": 2,
     "metadata": {},
     "output_type": "execute_result"
    }
   ],
   "source": [
    "torch.cuda.is_available()"
   ]
  },
  {
   "cell_type": "code",
   "execution_count": 3,
   "metadata": {},
   "outputs": [],
   "source": [
    "import numpy as np\n",
    "import pandas as pd\n",
    "import seaborn as sns\n",
    "import matplotlib.pyplot as plt"
   ]
  },
  {
   "cell_type": "code",
   "execution_count": 4,
   "metadata": {},
   "outputs": [
    {
     "data": {
      "text/plain": [
       "(150, 6)"
      ]
     },
     "execution_count": 4,
     "metadata": {},
     "output_type": "execute_result"
    }
   ],
   "source": [
    "data = pd.read_csv('iris.csv')\n",
    "data.shape"
   ]
  },
  {
   "cell_type": "code",
   "execution_count": 5,
   "metadata": {},
   "outputs": [
    {
     "data": {
      "text/html": [
       "<div>\n",
       "<style scoped>\n",
       "    .dataframe tbody tr th:only-of-type {\n",
       "        vertical-align: middle;\n",
       "    }\n",
       "\n",
       "    .dataframe tbody tr th {\n",
       "        vertical-align: top;\n",
       "    }\n",
       "\n",
       "    .dataframe thead th {\n",
       "        text-align: right;\n",
       "    }\n",
       "</style>\n",
       "<table border=\"1\" class=\"dataframe\">\n",
       "  <thead>\n",
       "    <tr style=\"text-align: right;\">\n",
       "      <th></th>\n",
       "      <th>SepalLengthCm</th>\n",
       "      <th>SepalWidthCm</th>\n",
       "      <th>PetalLengthCm</th>\n",
       "      <th>PetalWidthCm</th>\n",
       "      <th>Species</th>\n",
       "    </tr>\n",
       "  </thead>\n",
       "  <tbody>\n",
       "    <tr>\n",
       "      <th>0</th>\n",
       "      <td>5.1</td>\n",
       "      <td>3.5</td>\n",
       "      <td>1.4</td>\n",
       "      <td>0.2</td>\n",
       "      <td>Iris-setosa</td>\n",
       "    </tr>\n",
       "    <tr>\n",
       "      <th>1</th>\n",
       "      <td>4.9</td>\n",
       "      <td>3.0</td>\n",
       "      <td>1.4</td>\n",
       "      <td>0.2</td>\n",
       "      <td>Iris-setosa</td>\n",
       "    </tr>\n",
       "    <tr>\n",
       "      <th>2</th>\n",
       "      <td>4.7</td>\n",
       "      <td>3.2</td>\n",
       "      <td>1.3</td>\n",
       "      <td>0.2</td>\n",
       "      <td>Iris-setosa</td>\n",
       "    </tr>\n",
       "    <tr>\n",
       "      <th>3</th>\n",
       "      <td>4.6</td>\n",
       "      <td>3.1</td>\n",
       "      <td>1.5</td>\n",
       "      <td>0.2</td>\n",
       "      <td>Iris-setosa</td>\n",
       "    </tr>\n",
       "    <tr>\n",
       "      <th>4</th>\n",
       "      <td>5.0</td>\n",
       "      <td>3.6</td>\n",
       "      <td>1.4</td>\n",
       "      <td>0.2</td>\n",
       "      <td>Iris-setosa</td>\n",
       "    </tr>\n",
       "  </tbody>\n",
       "</table>\n",
       "</div>"
      ],
      "text/plain": [
       "   SepalLengthCm  SepalWidthCm  PetalLengthCm  PetalWidthCm      Species\n",
       "0            5.1           3.5            1.4           0.2  Iris-setosa\n",
       "1            4.9           3.0            1.4           0.2  Iris-setosa\n",
       "2            4.7           3.2            1.3           0.2  Iris-setosa\n",
       "3            4.6           3.1            1.5           0.2  Iris-setosa\n",
       "4            5.0           3.6            1.4           0.2  Iris-setosa"
      ]
     },
     "execution_count": 5,
     "metadata": {},
     "output_type": "execute_result"
    }
   ],
   "source": [
    "data.drop('Id', inplace=True, axis=1)\n",
    "data.head()"
   ]
  },
  {
   "cell_type": "code",
   "execution_count": 6,
   "metadata": {
    "scrolled": true
   },
   "outputs": [
    {
     "data": {
      "text/plain": [
       "SepalLengthCm    0\n",
       "SepalWidthCm     0\n",
       "PetalLengthCm    0\n",
       "PetalWidthCm     0\n",
       "Species          0\n",
       "dtype: int64"
      ]
     },
     "execution_count": 6,
     "metadata": {},
     "output_type": "execute_result"
    }
   ],
   "source": [
    "data.isna().sum()"
   ]
  },
  {
   "cell_type": "code",
   "execution_count": 7,
   "metadata": {},
   "outputs": [],
   "source": [
    "data['Species'] = np.where(data['Species']=='Iris-setosa', 0, data['Species']  )\n",
    "data['Species'] = np.where(data['Species']=='Iris-virginica', 1, data['Species'])\n",
    "data['Species'] = np.where(data['Species']=='Iris-versicolor', 2, data['Species'])"
   ]
  },
  {
   "cell_type": "code",
   "execution_count": 8,
   "metadata": {
    "scrolled": true
   },
   "outputs": [
    {
     "data": {
      "text/plain": [
       "0    50\n",
       "1    50\n",
       "2    50\n",
       "Name: Species, dtype: int64"
      ]
     },
     "execution_count": 8,
     "metadata": {},
     "output_type": "execute_result"
    }
   ],
   "source": [
    "data['Species'].value_counts()"
   ]
  },
  {
   "cell_type": "code",
   "execution_count": 9,
   "metadata": {},
   "outputs": [
    {
     "data": {
      "text/plain": [
       "array([[5.1, 3.5, 1.4, 0.2],\n",
       "       [4.9, 3. , 1.4, 0.2],\n",
       "       [4.7, 3.2, 1.3, 0.2],\n",
       "       [4.6, 3.1, 1.5, 0.2],\n",
       "       [5. , 3.6, 1.4, 0.2]])"
      ]
     },
     "execution_count": 9,
     "metadata": {},
     "output_type": "execute_result"
    }
   ],
   "source": [
    "X = data.drop(['Species'], axis=1).values\n",
    "X[:5]"
   ]
  },
  {
   "cell_type": "code",
   "execution_count": 10,
   "metadata": {},
   "outputs": [
    {
     "data": {
      "text/plain": [
       "array([0, 0, 0, 0, 0])"
      ]
     },
     "execution_count": 10,
     "metadata": {},
     "output_type": "execute_result"
    }
   ],
   "source": [
    "y = data['Species'].values.astype(int)\n",
    "y[:5]"
   ]
  },
  {
   "cell_type": "code",
   "execution_count": 11,
   "metadata": {},
   "outputs": [],
   "source": [
    "# Splitting into train and test 80-20 ratio\n",
    "from sklearn.model_selection import train_test_split\n",
    "X_train, X_test, y_train, y_test = train_test_split(X, y, test_size=0.2)"
   ]
  },
  {
   "cell_type": "code",
   "execution_count": 12,
   "metadata": {},
   "outputs": [],
   "source": [
    "# Converting arrays to tensors\n",
    "X_train = torch.FloatTensor(X_train)\n",
    "X_test = torch.FloatTensor(X_test)\n",
    "y_train = torch.LongTensor(y_train)\n",
    "y_test = torch.LongTensor(y_test)"
   ]
  },
  {
   "cell_type": "code",
   "execution_count": 13,
   "metadata": {},
   "outputs": [],
   "source": [
    "# Creating the architecture of the ANN\n",
    "\n",
    "class ANN_Model(nn.Module):\n",
    "    def __init__(self, input_features=4, hidden1=4, hidden2=4, out_features=3):\n",
    "        super().__init__()\n",
    "        self.f_connected1 = nn.Linear(input_features, hidden1)\n",
    "        self.f_connected2 = nn.Linear(hidden1, hidden2)\n",
    "        self.out = nn.Linear(hidden2, out_features)\n",
    "    def forward(self, x):\n",
    "        x = F.relu(self.f_connected1(x))\n",
    "        x = F.relu(self.f_connected2(x))\n",
    "        x = self.out(x)\n",
    "        return x"
   ]
  },
  {
   "cell_type": "code",
   "execution_count": 14,
   "metadata": {},
   "outputs": [],
   "source": [
    "# Instantiate the model\n",
    "torch.manual_seed(1)\n",
    "model = ANN_Model()"
   ]
  },
  {
   "cell_type": "code",
   "execution_count": 15,
   "metadata": {},
   "outputs": [
    {
     "data": {
      "text/plain": [
       "<bound method Module.parameters of ANN_Model(\n",
       "  (f_connected1): Linear(in_features=4, out_features=4, bias=True)\n",
       "  (f_connected2): Linear(in_features=4, out_features=4, bias=True)\n",
       "  (out): Linear(in_features=4, out_features=3, bias=True)\n",
       ")>"
      ]
     },
     "execution_count": 15,
     "metadata": {},
     "output_type": "execute_result"
    }
   ],
   "source": [
    "model.parameters"
   ]
  },
  {
   "cell_type": "code",
   "execution_count": 16,
   "metadata": {},
   "outputs": [],
   "source": [
    "# Backpropagation - Loss function, optimizer\n",
    "loss_function = nn.CrossEntropyLoss()\n",
    "optimizer = torch.optim.Adam(model.parameters(), lr=0.01)"
   ]
  },
  {
   "cell_type": "code",
   "execution_count": 17,
   "metadata": {},
   "outputs": [
    {
     "name": "stdout",
     "output_type": "stream",
     "text": [
      "In Epoch 10, the loss is: 0.9261073470115662\n",
      "In Epoch 20, the loss is: 0.7454518675804138\n",
      "In Epoch 30, the loss is: 0.5518718957901001\n",
      "In Epoch 40, the loss is: 0.4333936870098114\n",
      "In Epoch 50, the loss is: 0.36507537961006165\n",
      "In Epoch 60, the loss is: 0.3089636564254761\n",
      "In Epoch 70, the loss is: 0.24642761051654816\n",
      "In Epoch 80, the loss is: 0.18087629973888397\n",
      "In Epoch 90, the loss is: 0.1265057772397995\n",
      "In Epoch 100, the loss is: 0.09071500599384308\n",
      "In Epoch 110, the loss is: 0.06998683512210846\n",
      "In Epoch 120, the loss is: 0.058076463639736176\n",
      "In Epoch 130, the loss is: 0.05081937089562416\n",
      "In Epoch 140, the loss is: 0.046036433428525925\n",
      "In Epoch 150, the loss is: 0.04262401536107063\n",
      "In Epoch 160, the loss is: 0.040023136883974075\n",
      "In Epoch 170, the loss is: 0.0379377044737339\n",
      "In Epoch 180, the loss is: 0.03620614483952522\n",
      "In Epoch 190, the loss is: 0.034730635583400726\n",
      "In Epoch 200, the loss is: 0.03344856947660446\n",
      "In Epoch 210, the loss is: 0.0323169007897377\n",
      "In Epoch 220, the loss is: 0.03130597621202469\n",
      "In Epoch 230, the loss is: 0.03039414994418621\n",
      "In Epoch 240, the loss is: 0.02956511452794075\n",
      "In Epoch 250, the loss is: 0.028806172311306\n",
      "In Epoch 260, the loss is: 0.02810733951628208\n",
      "In Epoch 270, the loss is: 0.027460593730211258\n",
      "In Epoch 280, the loss is: 0.026859184727072716\n",
      "In Epoch 290, the loss is: 0.02629757858812809\n",
      "In Epoch 300, the loss is: 0.025771182030439377\n",
      "In Epoch 310, the loss is: 0.02527604252099991\n",
      "In Epoch 320, the loss is: 0.024808770045638084\n",
      "In Epoch 330, the loss is: 0.024366457015275955\n",
      "In Epoch 340, the loss is: 0.023946546018123627\n",
      "In Epoch 350, the loss is: 0.023546915501356125\n",
      "In Epoch 360, the loss is: 0.02316558174788952\n",
      "In Epoch 370, the loss is: 0.02280082181096077\n",
      "In Epoch 380, the loss is: 0.022451180964708328\n",
      "In Epoch 390, the loss is: 0.02211518958210945\n",
      "In Epoch 400, the loss is: 0.021791769191622734\n",
      "In Epoch 410, the loss is: 0.021664658561348915\n",
      "In Epoch 420, the loss is: 0.021587993949651718\n",
      "In Epoch 430, the loss is: 0.021048245951533318\n",
      "In Epoch 440, the loss is: 0.02072606235742569\n",
      "In Epoch 450, the loss is: 0.02044595405459404\n",
      "In Epoch 460, the loss is: 0.020191671326756477\n",
      "In Epoch 470, the loss is: 0.019947577267885208\n",
      "In Epoch 480, the loss is: 0.0197152066975832\n",
      "In Epoch 490, the loss is: 0.01948583871126175\n",
      "In Epoch 500, the loss is: 0.019261419773101807\n"
     ]
    }
   ],
   "source": [
    "# Hyperparameters\n",
    "epochs = 500\n",
    "final_losses = []\n",
    "for i in range(epochs):\n",
    "    i+=1\n",
    "    y_pred = model.forward(X_train)\n",
    "    loss = loss_function(y_pred, y_train)\n",
    "    final_losses.append(loss)\n",
    "    if(i%10==0):\n",
    "        print(\"In Epoch {}, the loss is: {}\".format(i, loss.item()))\n",
    "    optimizer.zero_grad()\n",
    "    loss.backward()\n",
    "    optimizer.step()"
   ]
  },
  {
   "cell_type": "code",
   "execution_count": 18,
   "metadata": {},
   "outputs": [
    {
     "data": {
      "image/png": "[encoded data removed]",
      "text/plain": [
       "<Figure size 432x288 with 1 Axes>"
      ]
     },
     "metadata": {
      "needs_background": "light"
     },
     "output_type": "display_data"
    }
   ],
   "source": [
    "# Loss function\n",
    "plt.plot(range(epochs), final_losses)\n",
    "plt.xlabel('Epoch')\n",
    "plt.ylabel('Loss')\n",
    "plt.show()"
   ]
  },
  {
   "cell_type": "code",
   "execution_count": 19,
   "metadata": {},
   "outputs": [
    {
     "name": "stdout",
     "output_type": "stream",
     "text": [
      "Predicted:  0 ; Actual:  0\n",
      "Predicted:  0 ; Actual:  0\n",
      "Predicted:  1 ; Actual:  1\n",
      "Predicted:  2 ; Actual:  2\n",
      "Predicted:  0 ; Actual:  0\n",
      "Predicted:  0 ; Actual:  0\n",
      "Predicted:  0 ; Actual:  0\n",
      "Predicted:  0 ; Actual:  0\n",
      "Predicted:  2 ; Actual:  2\n",
      "Predicted:  2 ; Actual:  2\n",
      "Predicted:  1 ; Actual:  1\n",
      "Predicted:  0 ; Actual:  0\n",
      "Predicted:  0 ; Actual:  0\n",
      "Predicted:  1 ; Actual:  2\n",
      "Predicted:  2 ; Actual:  2\n",
      "Predicted:  2 ; Actual:  2\n",
      "Predicted:  2 ; Actual:  2\n",
      "Predicted:  2 ; Actual:  2\n",
      "Predicted:  2 ; Actual:  2\n",
      "Predicted:  0 ; Actual:  0\n",
      "Predicted:  2 ; Actual:  2\n",
      "Predicted:  0 ; Actual:  0\n",
      "Predicted:  2 ; Actual:  2\n",
      "Predicted:  2 ; Actual:  2\n",
      "Predicted:  2 ; Actual:  2\n",
      "Predicted:  1 ; Actual:  1\n",
      "Predicted:  2 ; Actual:  2\n",
      "Predicted:  2 ; Actual:  2\n",
      "Predicted:  2 ; Actual:  2\n",
      "Predicted:  1 ; Actual:  1\n"
     ]
    }
   ],
   "source": [
    "# Predicting on test data\n",
    "predictions = []\n",
    "with torch.no_grad():\n",
    "    for i, (test_data, actual) in enumerate(zip(X_test, y_test)):\n",
    "        y_pred = model(test_data)\n",
    "        predict = y_pred.argmax().item()\n",
    "        predictions.append(predict)\n",
    "        print(\"Predicted: \", predict, \"; Actual: \", actual.item())"
   ]
  },
  {
   "cell_type": "code",
   "execution_count": 20,
   "metadata": {},
   "outputs": [],
   "source": [
    "# Create confusion matrix function to find out sensitivity and specificity\n",
    "from sklearn.metrics import confusion_matrix\n",
    "def draw_cm(actual, predicted):\n",
    "    cm = confusion_matrix( actual, predicted, [1,0]).T\n",
    "    sns.heatmap(cm, annot=True,  fmt='.2f', xticklabels = [\"Yes\",\"No\"] , yticklabels = [\"Yes\",\"No\"] )\n",
    "    plt.ylabel('Predicted')\n",
    "    plt.xlabel('Actual')\n",
    "    plt.show()"
   ]
  },
  {
   "cell_type": "code",
   "execution_count": 21,
   "metadata": {},
   "outputs": [
    {
     "name": "stderr",
     "output_type": "stream",
     "text": [
      "F:\\Installed\\Anaconda3\\envs\\torch\\lib\\site-packages\\sklearn\\utils\\validation.py:70: FutureWarning: Pass labels=[1, 0] as keyword args. From version 1.0 (renaming of 0.25) passing these as positional arguments will result in an error\n",
      "  warnings.warn(f\"Pass {args_msg} as keyword args. From version \"\n"
     ]
    },
    {
     "data": {
      "image/png": "[encoded data removed]",
      "text/plain": [
       "<Figure size 432x288 with 2 Axes>"
      ]
     },
     "metadata": {
      "needs_background": "light"
     },
     "output_type": "display_data"
    }
   ],
   "source": [
    "# Confusion matrix\n",
    "draw_cm(y_test.tolist(), predictions)"
   ]
  },
  {
   "cell_type": "code",
   "execution_count": 22,
   "metadata": {},
   "outputs": [
    {
     "data": {
      "text/plain": [
       "0.9666666666666667"
      ]
     },
     "execution_count": 22,
     "metadata": {},
     "output_type": "execute_result"
    }
   ],
   "source": [
    "from sklearn.metrics import accuracy_score\n",
    "score = accuracy_score(y_test.tolist(), predictions)\n",
    "score"
   ]
  },
  {
   "cell_type": "code",
   "execution_count": 23,
   "metadata": {},
   "outputs": [],
   "source": [
    "# Saving the model\n",
    "torch.save(model, 'iris.pt')"
   ]
  },
  {
   "cell_type": "code",
   "execution_count": 24,
   "metadata": {},
   "outputs": [],
   "source": [
    "# Next time loading the model\n",
    "loaded_model = torch.load('iris.pt')"
   ]
  },
  {
   "cell_type": "code",
   "execution_count": 25,
   "metadata": {},
   "outputs": [
    {
     "data": {
      "text/plain": [
       "ANN_Model(\n",
       "  (f_connected1): Linear(in_features=4, out_features=4, bias=True)\n",
       "  (f_connected2): Linear(in_features=4, out_features=4, bias=True)\n",
       "  (out): Linear(in_features=4, out_features=3, bias=True)\n",
       ")"
      ]
     },
     "execution_count": 25,
     "metadata": {},
     "output_type": "execute_result"
    }
   ],
   "source": [
    "loaded_model.eval()"
   ]
  },
  {
   "cell_type": "code",
   "execution_count": 26,
   "metadata": {},
   "outputs": [
    {
     "data": {
      "text/plain": [
       "[6.6, 3.0, 4.4, 1.4]"
      ]
     },
     "execution_count": 26,
     "metadata": {},
     "output_type": "execute_result"
    }
   ],
   "source": [
    "# Prediction on new data point\n",
    "random_sample = list(data.iloc[75,:-1])\n",
    "random_sample"
   ]
  },
  {
   "cell_type": "code",
   "execution_count": 27,
   "metadata": {},
   "outputs": [],
   "source": [
    "random_sample = [6.3, 3.5, 4.9, 1.1]\n",
    "new_data = torch.tensor(random_sample)"
   ]
  },
  {
   "cell_type": "code",
   "execution_count": 28,
   "metadata": {},
   "outputs": [
    {
     "name": "stdout",
     "output_type": "stream",
     "text": [
      "Predicted:  2\n"
     ]
    }
   ],
   "source": [
    "# Predict on new data\n",
    "with torch.no_grad():\n",
    "    y_pred = model(new_data)\n",
    "    prediction = y_pred.argmax().item()\n",
    "    print(\"Predicted: \", prediction)"
   ]
  }
 ],
 "metadata": {
  "hide_input": false,
  "kernelspec": {
   "display_name": "Python [conda env:torch]",
   "language": "python",
   "name": "conda-env-torch-py"
  },
  "language_info": {
   "codemirror_mode": {
    "name": "ipython",
    "version": 3
   },
   "file_extension": ".py",
   "mimetype": "text/x-python",
   "name": "python",
   "nbconvert_exporter": "python",
   "pygments_lexer": "ipython3",
   "version": "3.9.1"
  },
  "varInspector": {
   "cols": {
    "lenName": 16,
    "lenType": 16,
    "lenVar": 40
   },
   "kernels_config": {
    "python": {
     "delete_cmd_postfix": "",
     "delete_cmd_prefix": "del ",
     "library": "var_list.py",
     "varRefreshCmd": "print(var_dic_list())"
    },
    "r": {
     "delete_cmd_postfix": ") ",
     "delete_cmd_prefix": "rm(",
     "library": "var_list.r",
     "varRefreshCmd": "cat(var_dic_list()) "
    }
   },
   "position": {
    "height": "745px",
    "left": "1536px",
    "right": "20px",
    "top": "120px",
    "width": "364px"
   },
   "types_to_exclude": [
    "module",
    "function",
    "builtin_function_or_method",
    "instance",
    "_Feature"
   ],
   "window_display": false
  }
 },
 "nbformat": 4,
 "nbformat_minor": 2
}
